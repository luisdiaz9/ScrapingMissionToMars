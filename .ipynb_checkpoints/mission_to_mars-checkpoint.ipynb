{
 "cells": [
  {
   "cell_type": "code",
   "execution_count": 1,
   "metadata": {},
   "outputs": [],
   "source": [
    "from bs4 import BeautifulSoup\n",
    "from splinter import Browser\n",
    "import pandas as pd\n",
    "import requests"
   ]
  },
  {
   "cell_type": "code",
   "execution_count": 2,
   "metadata": {},
   "outputs": [
    {
     "name": "stdout",
     "output_type": "stream",
     "text": [
      "What's Mars Solar Conjunction, and Why Does It Matter?\n",
      "NASA spacecraft at Mars are going to be on their own for a few weeks when the Sun comes between Mars and Earth, interrupting communications.\n"
     ]
    }
   ],
   "source": [
    "DataToHTML = {}\n",
    "DataToHTML['header_last'] = ''\n",
    "DataToHTML['content_last'] = ''\n",
    "#Definition of 'def init_browser()' \n",
    "exec_path = {'executable_path': 'chromedriver'}\n",
    "browser=Browser('chrome', headless=True, **exec_path)\n",
    "#Definition of 'def scrape_last()' to get the latest Mars News\n",
    "#browser = init_browser()\n",
    "browser.is_element_present_by_css(\"div.content_title\", wait_time=1)\n",
    "url_last = 'https://mars.nasa.gov/news/'\n",
    "browser.visit(url_last)\n",
    "html_last = browser.html\n",
    "soup = BeautifulSoup(html_last, 'html.parser')\n",
    "DataToHTML['header_last'] = soup.find('div', class_='content_title').find('a').text\n",
    "DataToHTML['content_last'] = soup.find('div', class_='article_teaser_body').text\n",
    "print(DataToHTML['header_last'])\n",
    "print(DataToHTML['content_last']) \n"
   ]
  },
  {
   "cell_type": "code",
   "execution_count": 3,
   "metadata": {},
   "outputs": [
    {
     "name": "stdout",
     "output_type": "stream",
     "text": [
      "https://www.jpl.nasa.gov/spaceimages/images/wallpaper/PIA18433-1920x1200.jpg\n"
     ]
    }
   ],
   "source": [
    "DataToHTML['url_main_img_final']=''\n",
    "#Definition of 'def scrape_img()' to get the Featured Mars Image\n",
    "#browser = init_browser()\n",
    "url_main_img = 'https://www.jpl.nasa.gov/spaceimages/?search=&category=Mars'\n",
    "browser.visit(url_main_img)# Visit Mars Space Images through splinter module\n",
    "html_main_img = browser.html\n",
    "soup = BeautifulSoup(html_main_img, 'html.parser')\n",
    "complement_image_url  = soup.find('article')['style'].replace('background-image: url(','').replace(');', '')[1:-1]\n",
    "root_main_img = 'https://www.jpl.nasa.gov'\n",
    "DataToHTML['url_main_img_final'] = root_main_img + complement_image_url\n",
    "print(DataToHTML['url_main_img_final'])"
   ]
  },
  {
   "cell_type": "code",
   "execution_count": 4,
   "metadata": {},
   "outputs": [
    {
     "name": "stdout",
     "output_type": "stream",
     "text": [
      "InSight sol 264 (2019-08-24) low -101.0ºC (-149.7ºF) high -26.7ºC (-16.1ºF)\n",
      "winds from the SW at 4.4 m/s (9.9 mph) gusting to 17.4 m/s (38.9 mph)\n",
      "pressure at 7.60 hPapic.twitter.com/xIytu1MnDG\n"
     ]
    }
   ],
   "source": [
    "DataToHTML['msg']=''\n",
    "#Definition of 'def scrape_msg()' to get the Current Weather on Mars\n",
    "#browser = init_browser()\n",
    "url_pressure = 'https://twitter.com/marswxreport?lang=en'\n",
    "browser.visit(url_pressure)\n",
    "html_pressure = browser.html\n",
    "soup = BeautifulSoup(html_pressure, 'html.parser')\n",
    "text_msg = soup.find_all('div', class_='js-tweet-text-container')\n",
    "for msg in text_msg: \n",
    "    aux = msg.find('p').text\n",
    "    if 'sol' and 'pressure' in aux:\n",
    "        DataToHTML['msg'] = aux\n",
    "        break\n",
    "    else: \n",
    "        pass\n",
    "\n",
    "print(DataToHTML['msg'])"
   ]
  },
  {
   "cell_type": "code",
   "execution_count": 5,
   "metadata": {},
   "outputs": [
    {
     "name": "stdout",
     "output_type": "stream",
     "text": [
      "<table border=\"1\" class=\"dataframe\">\n",
      "  <thead>\n",
      "    <tr style=\"text-align: right;\">\n",
      "      <th></th>\n",
      "      <th>Values of Mars</th>\n",
      "    </tr>\n",
      "    <tr>\n",
      "      <th>Description</th>\n",
      "      <th></th>\n",
      "    </tr>\n",
      "  </thead>\n",
      "  <tbody>\n",
      "    <tr>\n",
      "      <th>Equatorial Diameter:</th>\n",
      "      <td>6,792 km</td>\n",
      "    </tr>\n",
      "    <tr>\n",
      "      <th>Polar Diameter:</th>\n",
      "      <td>6,752 km</td>\n",
      "    </tr>\n",
      "    <tr>\n",
      "      <th>Mass:</th>\n",
      "      <td>6.39 × 10^23 kg (0.11 Earths)</td>\n",
      "    </tr>\n",
      "    <tr>\n",
      "      <th>Moons:</th>\n",
      "      <td>2 (Phobos &amp; Deimos)</td>\n",
      "    </tr>\n",
      "    <tr>\n",
      "      <th>Orbit Distance:</th>\n",
      "      <td>227,943,824 km (1.38 AU)</td>\n",
      "    </tr>\n",
      "    <tr>\n",
      "      <th>Orbit Period:</th>\n",
      "      <td>687 days (1.9 years)</td>\n",
      "    </tr>\n",
      "    <tr>\n",
      "      <th>Surface Temperature:</th>\n",
      "      <td>-87 to -5 °C</td>\n",
      "    </tr>\n",
      "    <tr>\n",
      "      <th>First Record:</th>\n",
      "      <td>2nd millennium BC</td>\n",
      "    </tr>\n",
      "    <tr>\n",
      "      <th>Recorded By:</th>\n",
      "      <td>Egyptian astronomers</td>\n",
      "    </tr>\n",
      "  </tbody>\n",
      "</table>\n"
     ]
    }
   ],
   "source": [
    "DataToHTML['table_mars']=''\n",
    "#Definition of 'def scrape_table()' to get the table with facts of Mars through Pandas\n",
    "url_table = 'http://space-facts.com/mars/'\n",
    "tables = pd.read_html(url_table)\n",
    "table_mars = tables[1]\n",
    "table_mars.columns = ['Description','Values of Mars']\n",
    "table_mars.set_index('Description', inplace=True)\n",
    "DataToHTML['table_mars'] = table_mars.to_html()\n",
    "print(DataToHTML['table_mars'])\n"
   ]
  },
  {
   "cell_type": "code",
   "execution_count": 6,
   "metadata": {},
   "outputs": [
    {
     "name": "stdout",
     "output_type": "stream",
     "text": [
      "[{'header': 'Valles Marineris Hemisphere Enhanced', 'url_full_imgs': 'https://astrogeology.usgs.gov/cache/images/7cf2da4bf549ed01c17f206327be4db7_valles_marineris_enhanced.tif_full.jpg'}, {'header': 'Cerberus Hemisphere Enhanced', 'url_full_imgs': 'https://astrogeology.usgs.gov/cache/images/cfa62af2557222a02478f1fcd781d445_cerberus_enhanced.tif_full.jpg'}, {'header': 'Schiaparelli Hemisphere Enhanced', 'url_full_imgs': 'https://astrogeology.usgs.gov/cache/images/3cdd1cbf5e0813bba925c9030d13b62e_schiaparelli_enhanced.tif_full.jpg'}, {'header': 'Syrtis Major Hemisphere Enhanced', 'url_full_imgs': 'https://astrogeology.usgs.gov/cache/images/ae209b4e408bb6c3e67b6af38168cf28_syrtis_major_enhanced.tif_full.jpg'}]\n"
     ]
    }
   ],
   "source": [
    "DataToHTML['imgs']=''\n",
    "#Definition of 'def scrape_imgs()' to get Mar's Enhanced Hemispheres\n",
    "#browser = init_browser()\n",
    "url_imgs = 'https://astrogeology.usgs.gov/search/results?q=hemisphere+enhanced&k1=target&v1=Mars'\n",
    "browser.visit(url_imgs)\n",
    "html_imgs = browser.html\n",
    "soup = BeautifulSoup(html_imgs, 'html.parser')\n",
    "imgs = soup.find_all('div', class_='item')\n",
    "head_imgs = []\n",
    "url_main_imgs = 'https://astrogeology.usgs.gov' \n",
    "for x in imgs: \n",
    "    header = x.find('h3').text\n",
    "    url_complement_imgs = x.find('a', class_='itemLink product-item')['href']\n",
    "    browser.visit(url_main_imgs + url_complement_imgs)\n",
    "    html_full_imgs = browser.html\n",
    "    soup = BeautifulSoup( html_full_imgs, 'html.parser')\n",
    "    url_full_imgs = url_main_imgs + soup.find('img', class_='wide-image')['src']\n",
    "    head_imgs.append({\"header\" : header, \"url_full_imgs\" : url_full_imgs})\n",
    "sort_aux1 = [{'header' : 'Valles Marineris Hemisphere Enhanced'},{'header' :  'Cerberus Hemisphere Enhanced'},{'header' : 'Schiaparelli Hemisphere Enhanced'},{'header' : 'Syrtis Major Hemisphere Enhanced' }]\n",
    "sort_aux2 = []\n",
    "for y in range(len(sort_aux1)):\n",
    "    for x in range(len(head_imgs)):\n",
    "        if sort_aux1[y]['header'] == head_imgs[x]['header']:\n",
    "            sort_aux2.append({\"header\" : sort_aux1[y]['header'], \"url_full_imgs\" : head_imgs[x]['url_full_imgs']})\n",
    "DataToHTML['imgs']=sort_aux2\n",
    "print(DataToHTML['imgs'])\n"
   ]
  },
  {
   "cell_type": "code",
   "execution_count": null,
   "metadata": {},
   "outputs": [],
   "source": []
  }
 ],
 "metadata": {
  "kernelspec": {
   "display_name": "Python 3",
   "language": "python",
   "name": "python3"
  },
  "language_info": {
   "codemirror_mode": {
    "name": "ipython",
    "version": 3
   },
   "file_extension": ".py",
   "mimetype": "text/x-python",
   "name": "python",
   "nbconvert_exporter": "python",
   "pygments_lexer": "ipython3",
   "version": "3.7.3"
  }
 },
 "nbformat": 4,
 "nbformat_minor": 2
}
